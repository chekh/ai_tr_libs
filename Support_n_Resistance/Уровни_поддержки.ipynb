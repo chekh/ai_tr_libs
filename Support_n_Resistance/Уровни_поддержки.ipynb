{
  "nbformat": 4,
  "nbformat_minor": 0,
  "metadata": {
    "colab": {
      "name": "Уровни поддержки.ipynb",
      "provenance": [],
      "collapsed_sections": [],
      "authorship_tag": "ABX9TyMrTi3AopQVMsVTlpBdTaBX",
      "include_colab_link": true
    },
    "kernelspec": {
      "name": "python3",
      "display_name": "Python 3"
    },
    "language_info": {
      "name": "python"
    }
  },
  "cells": [
    {
      "cell_type": "markdown",
      "metadata": {
        "id": "view-in-github",
        "colab_type": "text"
      },
      "source": [
        "<a href=\"https://colab.research.google.com/github/chekh/ai_tr_libs/blob/main/%D0%A3%D1%80%D0%BE%D0%B2%D0%BD%D0%B8_%D0%BF%D0%BE%D0%B4%D0%B4%D0%B5%D1%80%D0%B6%D0%BA%D0%B8.ipynb\" target=\"_parent\"><img src=\"https://colab.research.google.com/assets/colab-badge.svg\" alt=\"Open In Colab\"/></a>"
      ]
    },
    {
      "cell_type": "code",
      "metadata": {
        "colab": {
          "base_uri": "https://localhost:8080/"
        },
        "id": "zMETW-JqnFv9",
        "outputId": "82849a08-5d5e-4528-d512-c83c7214e187"
      },
      "source": [
        "# Инсталляция библиотеки для отображения финансовых диаграмм\n",
        "!pip install mpl_finance\n",
        "!pip install --upgrade mplfinance"
      ],
      "execution_count": 15,
      "outputs": [
        {
          "output_type": "stream",
          "text": [
            "Collecting mpl_finance\n",
            "  Downloading https://files.pythonhosted.org/packages/9d/de/8169ea4403d6cb8322e74cc48b6834d1dfbed81931d17f1f26b2140160d8/mpl_finance-0.10.1-py3-none-any.whl\n",
            "Requirement already satisfied: matplotlib in /usr/local/lib/python3.7/dist-packages (from mpl_finance) (3.2.2)\n",
            "Requirement already satisfied: kiwisolver>=1.0.1 in /usr/local/lib/python3.7/dist-packages (from matplotlib->mpl_finance) (1.3.1)\n",
            "Requirement already satisfied: pyparsing!=2.0.4,!=2.1.2,!=2.1.6,>=2.0.1 in /usr/local/lib/python3.7/dist-packages (from matplotlib->mpl_finance) (2.4.7)\n",
            "Requirement already satisfied: cycler>=0.10 in /usr/local/lib/python3.7/dist-packages (from matplotlib->mpl_finance) (0.10.0)\n",
            "Requirement already satisfied: python-dateutil>=2.1 in /usr/local/lib/python3.7/dist-packages (from matplotlib->mpl_finance) (2.8.1)\n",
            "Requirement already satisfied: numpy>=1.11 in /usr/local/lib/python3.7/dist-packages (from matplotlib->mpl_finance) (1.19.5)\n",
            "Requirement already satisfied: six in /usr/local/lib/python3.7/dist-packages (from cycler>=0.10->matplotlib->mpl_finance) (1.15.0)\n",
            "Installing collected packages: mpl-finance\n",
            "Successfully installed mpl-finance-0.10.1\n",
            "Requirement already up-to-date: mplfinance in /usr/local/lib/python3.7/dist-packages (0.12.7a12)\n",
            "Requirement already satisfied, skipping upgrade: pandas in /usr/local/lib/python3.7/dist-packages (from mplfinance) (1.1.5)\n",
            "Requirement already satisfied, skipping upgrade: matplotlib in /usr/local/lib/python3.7/dist-packages (from mplfinance) (3.2.2)\n",
            "Requirement already satisfied, skipping upgrade: numpy>=1.15.4 in /usr/local/lib/python3.7/dist-packages (from pandas->mplfinance) (1.19.5)\n",
            "Requirement already satisfied, skipping upgrade: python-dateutil>=2.7.3 in /usr/local/lib/python3.7/dist-packages (from pandas->mplfinance) (2.8.1)\n",
            "Requirement already satisfied, skipping upgrade: pytz>=2017.2 in /usr/local/lib/python3.7/dist-packages (from pandas->mplfinance) (2018.9)\n",
            "Requirement already satisfied, skipping upgrade: cycler>=0.10 in /usr/local/lib/python3.7/dist-packages (from matplotlib->mplfinance) (0.10.0)\n",
            "Requirement already satisfied, skipping upgrade: kiwisolver>=1.0.1 in /usr/local/lib/python3.7/dist-packages (from matplotlib->mplfinance) (1.3.1)\n",
            "Requirement already satisfied, skipping upgrade: pyparsing!=2.0.4,!=2.1.2,!=2.1.6,>=2.0.1 in /usr/local/lib/python3.7/dist-packages (from matplotlib->mplfinance) (2.4.7)\n",
            "Requirement already satisfied, skipping upgrade: six>=1.5 in /usr/local/lib/python3.7/dist-packages (from python-dateutil>=2.7.3->pandas->mplfinance) (1.15.0)\n"
          ],
          "name": "stdout"
        }
      ]
    },
    {
      "cell_type": "code",
      "metadata": {
        "colab": {
          "base_uri": "https://localhost:8080/"
        },
        "id": "v9mz1YdF1iDl",
        "outputId": "a50585d2-31e9-4b0d-c834-e2588a10064c"
      },
      "source": [
        "# Загрузка библиотек ai_tr_libs с github\n",
        "!curl --remote-name --location https://raw.githubusercontent.com/chekh/ai_tr_libs/main/Support_n_Resistance/Data.py\n",
        "!curl --remote-name --location https://raw.githubusercontent.com/chekh/ai_tr_libs/main/Support_n_Resistance/SupportResistance.py"
      ],
      "execution_count": 7,
      "outputs": [
        {
          "output_type": "stream",
          "text": [
            "  % Total    % Received % Xferd  Average Speed   Time    Time     Time  Current\n",
            "                                 Dload  Upload   Total   Spent    Left  Speed\n",
            "100   746  100   746    0     0  26642      0 --:--:-- --:--:-- --:--:-- 27629\n",
            "  % Total    % Received % Xferd  Average Speed   Time    Time     Time  Current\n",
            "                                 Dload  Upload   Total   Spent    Left  Speed\n",
            "100 15179  100 15179    0     0   152k      0 --:--:-- --:--:-- --:--:--  154k\n"
          ],
          "name": "stdout"
        }
      ]
    },
    {
      "cell_type": "code",
      "metadata": {
        "id": "RQ1nmbcA9peI"
      },
      "source": [
        "from SupportResistance import SupportResistance\n",
        "from Data import YahooData\n",
        "\n",
        "import datetime\n",
        "import time\n",
        "import pandas as pd\n",
        "import numpy as np\n",
        "\n",
        "from mpl_finance import candlestick_ohlc\n",
        "import matplotlib.pyplot as plt\n",
        "from matplotlib.dates import date2num\n",
        "import matplotlib.dates as mdates\n",
        "\n",
        "import warnings\n",
        "#warnings.filterwarnings('ignore')\n",
        "#%matplotlib notebook"
      ],
      "execution_count": 17,
      "outputs": []
    },
    {
      "cell_type": "code",
      "metadata": {
        "colab": {
          "base_uri": "https://localhost:8080/"
        },
        "id": "fOM194_SuNI3",
        "outputId": "035b8711-2e7f-44fb-94d0-d78cfe224bde"
      },
      "source": [
        "plt.style.use('ggplot')\n",
        "\n",
        "symbols = ['FB']\n",
        "\n",
        "if __name__ == '__main__':\n",
        "    start_all = time.perf_counter()\n",
        "    \n",
        "    csv = YahooData(symbols, '2008', '2019')\n",
        "    csv_data = csv.get_data()\n"
      ],
      "execution_count": 18,
      "outputs": [
        {
          "output_type": "stream",
          "text": [
            "Gathering Data...\n",
            "\n",
            "Gathering the data took: 0.6489 seconds\n",
            "\n"
          ],
          "name": "stdout"
        }
      ]
    },
    {
      "cell_type": "code",
      "metadata": {
        "id": "BOLGecmlxcTR"
      },
      "source": [
        "symbol = symbols[0]\n",
        "sym_data = csv_data[symbol][['open', 'high', 'low', 'close']]"
      ],
      "execution_count": 19,
      "outputs": []
    },
    {
      "cell_type": "code",
      "metadata": {
        "colab": {
          "base_uri": "https://localhost:8080/",
          "height": 538
        },
        "id": "5TrgZxo3nO6W",
        "outputId": "86c91f45-7a80-4824-c8a0-b8eabe053560"
      },
      "source": [
        "SR = SupportResistance(csv_data[symbol], frame = 'Daily', partial_std_amount = 2)\n",
        "support_resistance = SR.main(view_graph = True, start = -100, end = -1, candle_width = 0.5)\n",
        "SR_data = SR.get_all_data(support_resistance, sym_data)"
      ],
      "execution_count": 20,
      "outputs": [
        {
          "output_type": "stream",
          "text": [
            "Calculating S/R Took:  0.0837 seconds\n",
            "Getting all data took: 0.0711 seconds\n"
          ],
          "name": "stdout"
        },
        {
          "output_type": "display_data",
          "data": {
            "image/png": "[encoded data removed]",
            "text/plain": [
              "<Figure size 648x504 with 1 Axes>"
            ]
          },
          "metadata": {
            "tags": []
          }
        },
        {
          "output_type": "stream",
          "text": [
            "Done!\n",
            "Structuring All Data Took: 0.0426 seconds\n"
          ],
          "name": "stdout"
        }
      ]
    },
    {
      "cell_type": "code",
      "metadata": {
        "colab": {
          "base_uri": "https://localhost:8080/",
          "height": 450
        },
        "id": "B5UdHXgVuoDz",
        "outputId": "acbb8e57-e26b-424d-8872-8150eb8276bd"
      },
      "source": [
        "SR_data"
      ],
      "execution_count": 21,
      "outputs": [
        {
          "output_type": "execute_result",
          "data": {
            "text/html": [
              "<div>\n",
              "<style scoped>\n",
              "    .dataframe tbody tr th:only-of-type {\n",
              "        vertical-align: middle;\n",
              "    }\n",
              "\n",
              "    .dataframe tbody tr th {\n",
              "        vertical-align: top;\n",
              "    }\n",
              "\n",
              "    .dataframe thead th {\n",
              "        text-align: right;\n",
              "    }\n",
              "</style>\n",
              "<table border=\"1\" class=\"dataframe\">\n",
              "  <thead>\n",
              "    <tr style=\"text-align: right;\">\n",
              "      <th></th>\n",
              "      <th>open</th>\n",
              "      <th>high</th>\n",
              "      <th>low</th>\n",
              "      <th>close</th>\n",
              "      <th>Kind</th>\n",
              "      <th>PCT</th>\n",
              "    </tr>\n",
              "    <tr>\n",
              "      <th>Date</th>\n",
              "      <th></th>\n",
              "      <th></th>\n",
              "      <th></th>\n",
              "      <th></th>\n",
              "      <th></th>\n",
              "      <th></th>\n",
              "    </tr>\n",
              "  </thead>\n",
              "  <tbody>\n",
              "    <tr>\n",
              "      <th>2012-05-18</th>\n",
              "      <td>42.049999</td>\n",
              "      <td>45.000000</td>\n",
              "      <td>38.000000</td>\n",
              "      <td>38.230000</td>\n",
              "      <td>NaN</td>\n",
              "      <td>NaN</td>\n",
              "    </tr>\n",
              "    <tr>\n",
              "      <th>2012-05-21</th>\n",
              "      <td>36.529999</td>\n",
              "      <td>36.660000</td>\n",
              "      <td>33.000000</td>\n",
              "      <td>34.029999</td>\n",
              "      <td>NaN</td>\n",
              "      <td>NaN</td>\n",
              "    </tr>\n",
              "    <tr>\n",
              "      <th>2012-05-22</th>\n",
              "      <td>32.610001</td>\n",
              "      <td>33.590000</td>\n",
              "      <td>30.940001</td>\n",
              "      <td>31.000000</td>\n",
              "      <td>NaN</td>\n",
              "      <td>NaN</td>\n",
              "    </tr>\n",
              "    <tr>\n",
              "      <th>2012-05-23</th>\n",
              "      <td>31.370001</td>\n",
              "      <td>32.500000</td>\n",
              "      <td>31.360001</td>\n",
              "      <td>32.000000</td>\n",
              "      <td>NaN</td>\n",
              "      <td>NaN</td>\n",
              "    </tr>\n",
              "    <tr>\n",
              "      <th>2012-05-24</th>\n",
              "      <td>32.950001</td>\n",
              "      <td>33.209999</td>\n",
              "      <td>31.770000</td>\n",
              "      <td>33.029999</td>\n",
              "      <td>NaN</td>\n",
              "      <td>NaN</td>\n",
              "    </tr>\n",
              "    <tr>\n",
              "      <th>...</th>\n",
              "      <td>...</td>\n",
              "      <td>...</td>\n",
              "      <td>...</td>\n",
              "      <td>...</td>\n",
              "      <td>...</td>\n",
              "      <td>...</td>\n",
              "    </tr>\n",
              "    <tr>\n",
              "      <th>2018-12-24</th>\n",
              "      <td>123.099998</td>\n",
              "      <td>129.740005</td>\n",
              "      <td>123.019997</td>\n",
              "      <td>124.059998</td>\n",
              "      <td>Support</td>\n",
              "      <td>0.042553</td>\n",
              "    </tr>\n",
              "    <tr>\n",
              "      <th>2018-12-26</th>\n",
              "      <td>126.000000</td>\n",
              "      <td>134.240005</td>\n",
              "      <td>125.889999</td>\n",
              "      <td>134.179993</td>\n",
              "      <td>NaN</td>\n",
              "      <td>NaN</td>\n",
              "    </tr>\n",
              "    <tr>\n",
              "      <th>2018-12-27</th>\n",
              "      <td>132.440002</td>\n",
              "      <td>134.990005</td>\n",
              "      <td>129.669998</td>\n",
              "      <td>134.520004</td>\n",
              "      <td>NaN</td>\n",
              "      <td>NaN</td>\n",
              "    </tr>\n",
              "    <tr>\n",
              "      <th>2018-12-28</th>\n",
              "      <td>135.339996</td>\n",
              "      <td>135.919998</td>\n",
              "      <td>132.199997</td>\n",
              "      <td>133.199997</td>\n",
              "      <td>NaN</td>\n",
              "      <td>NaN</td>\n",
              "    </tr>\n",
              "    <tr>\n",
              "      <th>2018-12-31</th>\n",
              "      <td>134.449997</td>\n",
              "      <td>134.639999</td>\n",
              "      <td>129.949997</td>\n",
              "      <td>131.089996</td>\n",
              "      <td>NaN</td>\n",
              "      <td>NaN</td>\n",
              "    </tr>\n",
              "  </tbody>\n",
              "</table>\n",
              "<p>1665 rows × 6 columns</p>\n",
              "</div>"
            ],
            "text/plain": [
              "                  open        high         low       close     Kind       PCT\n",
              "Date                                                                         \n",
              "2012-05-18   42.049999   45.000000   38.000000   38.230000      NaN       NaN\n",
              "2012-05-21   36.529999   36.660000   33.000000   34.029999      NaN       NaN\n",
              "2012-05-22   32.610001   33.590000   30.940001   31.000000      NaN       NaN\n",
              "2012-05-23   31.370001   32.500000   31.360001   32.000000      NaN       NaN\n",
              "2012-05-24   32.950001   33.209999   31.770000   33.029999      NaN       NaN\n",
              "...                ...         ...         ...         ...      ...       ...\n",
              "2018-12-24  123.099998  129.740005  123.019997  124.059998  Support  0.042553\n",
              "2018-12-26  126.000000  134.240005  125.889999  134.179993      NaN       NaN\n",
              "2018-12-27  132.440002  134.990005  129.669998  134.520004      NaN       NaN\n",
              "2018-12-28  135.339996  135.919998  132.199997  133.199997      NaN       NaN\n",
              "2018-12-31  134.449997  134.639999  129.949997  131.089996      NaN       NaN\n",
              "\n",
              "[1665 rows x 6 columns]"
            ]
          },
          "metadata": {
            "tags": []
          },
          "execution_count": 21
        }
      ]
    },
    {
      "cell_type": "code",
      "metadata": {
        "colab": {
          "base_uri": "https://localhost:8080/",
          "height": 235
        },
        "id": "06YryD9SusBz",
        "outputId": "bd32dc08-7f53-4ef0-d7ce-ce810a61bb56"
      },
      "source": [
        "SR_data[SR_data['Kind'] == 'Resistance'].tail()"
      ],
      "execution_count": 22,
      "outputs": [
        {
          "output_type": "execute_result",
          "data": {
            "text/html": [
              "<div>\n",
              "<style scoped>\n",
              "    .dataframe tbody tr th:only-of-type {\n",
              "        vertical-align: middle;\n",
              "    }\n",
              "\n",
              "    .dataframe tbody tr th {\n",
              "        vertical-align: top;\n",
              "    }\n",
              "\n",
              "    .dataframe thead th {\n",
              "        text-align: right;\n",
              "    }\n",
              "</style>\n",
              "<table border=\"1\" class=\"dataframe\">\n",
              "  <thead>\n",
              "    <tr style=\"text-align: right;\">\n",
              "      <th></th>\n",
              "      <th>open</th>\n",
              "      <th>high</th>\n",
              "      <th>low</th>\n",
              "      <th>close</th>\n",
              "      <th>Kind</th>\n",
              "      <th>PCT</th>\n",
              "    </tr>\n",
              "    <tr>\n",
              "      <th>Date</th>\n",
              "      <th></th>\n",
              "      <th></th>\n",
              "      <th></th>\n",
              "      <th></th>\n",
              "      <th></th>\n",
              "      <th></th>\n",
              "    </tr>\n",
              "  </thead>\n",
              "  <tbody>\n",
              "    <tr>\n",
              "      <th>2018-09-27</th>\n",
              "      <td>167.550003</td>\n",
              "      <td>171.770004</td>\n",
              "      <td>167.210007</td>\n",
              "      <td>168.839996</td>\n",
              "      <td>Resistance</td>\n",
              "      <td>0.047070</td>\n",
              "    </tr>\n",
              "    <tr>\n",
              "      <th>2018-10-17</th>\n",
              "      <td>159.559998</td>\n",
              "      <td>160.490005</td>\n",
              "      <td>157.949997</td>\n",
              "      <td>159.419998</td>\n",
              "      <td>Resistance</td>\n",
              "      <td>0.048607</td>\n",
              "    </tr>\n",
              "    <tr>\n",
              "      <th>2018-10-31</th>\n",
              "      <td>155.000000</td>\n",
              "      <td>156.399994</td>\n",
              "      <td>148.960007</td>\n",
              "      <td>151.789993</td>\n",
              "      <td>Resistance</td>\n",
              "      <td>0.051648</td>\n",
              "    </tr>\n",
              "    <tr>\n",
              "      <th>2018-12-03</th>\n",
              "      <td>143.000000</td>\n",
              "      <td>143.679993</td>\n",
              "      <td>140.759995</td>\n",
              "      <td>141.089996</td>\n",
              "      <td>Resistance</td>\n",
              "      <td>0.052801</td>\n",
              "    </tr>\n",
              "    <tr>\n",
              "      <th>2018-12-12</th>\n",
              "      <td>143.080002</td>\n",
              "      <td>147.190002</td>\n",
              "      <td>142.509995</td>\n",
              "      <td>144.500000</td>\n",
              "      <td>Resistance</td>\n",
              "      <td>0.053561</td>\n",
              "    </tr>\n",
              "  </tbody>\n",
              "</table>\n",
              "</div>"
            ],
            "text/plain": [
              "                  open        high  ...        Kind       PCT\n",
              "Date                                ...                      \n",
              "2018-09-27  167.550003  171.770004  ...  Resistance  0.047070\n",
              "2018-10-17  159.559998  160.490005  ...  Resistance  0.048607\n",
              "2018-10-31  155.000000  156.399994  ...  Resistance  0.051648\n",
              "2018-12-03  143.000000  143.679993  ...  Resistance  0.052801\n",
              "2018-12-12  143.080002  147.190002  ...  Resistance  0.053561\n",
              "\n",
              "[5 rows x 6 columns]"
            ]
          },
          "metadata": {
            "tags": []
          },
          "execution_count": 22
        }
      ]
    }
  ]
}
